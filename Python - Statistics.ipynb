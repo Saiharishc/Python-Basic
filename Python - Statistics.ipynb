{
 "cells": [
  {
   "cell_type": "code",
   "execution_count": 6,
   "metadata": {},
   "outputs": [
    {
     "data": {
      "image/png": "[encoded data removed]",
      "text/plain": [
       "<Figure size 432x288 with 1 Axes>"
      ]
     },
     "metadata": {
      "needs_background": "light"
     },
     "output_type": "display_data"
    }
   ],
   "source": [
    "#binomial distribution\n",
    "from scipy.stats import binom\n",
    "import matplotlib.pyplot as plt\n",
    "fig,ax =plt.subplots(1,1)\n",
    "x=[0,1,2,3,4,5,6]\n",
    "n,p=6,0.5\n",
    "rv= binom(n,p)\n",
    "ax.vlines(x,0,rv.pmf(x),colors='k',linestyles='-',lw=1,label='Probability')\n",
    "ax.legend(loc='best',frameon=False)\n",
    "plt.show()"
   ]
  },
  {
   "cell_type": "code",
   "execution_count": 3,
   "metadata": {},
   "outputs": [],
   "source": [
    "The plt.subplots function helps in generating multiple plots on a screen.\n",
    "The binom function takes in the number of attempts and the probability of success.\n",
    "The ax.vlines function is used to plot vertical lines and rv.pmf within it helps in calculating the probability at various values of x.\n",
    "The ax.legend function adds a legend to the graph, and finally, plt.show displays the graph."
   ]
  },
  {
   "cell_type": "code",
   "execution_count": null,
   "metadata": {},
   "outputs": [],
   "source": [
    "As you can see in the graph, if coin is flipped 6 times, then getting 3 heads has maximum probability"
   ]
  },
  {
   "cell_type": "code",
   "execution_count": null,
   "metadata": {},
   "outputs": [],
   "source": []
  },
  {
   "cell_type": "code",
   "execution_count": 7,
   "metadata": {},
   "outputs": [
    {
     "data": {
      "image/png": "[encoded data removed]",
      "text/plain": [
       "<Figure size 432x288 with 1 Axes>"
      ]
     },
     "metadata": {
      "needs_background": "light"
     },
     "output_type": "display_data"
    }
   ],
   "source": [
    "from scipy.stats import binom\n",
    "import matplotlib.pyplot as plt\n",
    "fig,ax =plt.subplots(1,1)\n",
    "x=range(101)\n",
    "n,p=100,0.5\n",
    "rv= binom(n,p)\n",
    "ax.vlines(x,0,rv.pmf(x),colors='k',linestyles='-',lw=1,label='Probability')\n",
    "ax.legend(loc='best',frameon=False)\n",
    "plt.show()"
   ]
  },
  {
   "cell_type": "code",
   "execution_count": null,
   "metadata": {},
   "outputs": [],
   "source": []
  },
  {
   "cell_type": "code",
   "execution_count": null,
   "metadata": {},
   "outputs": [],
   "source": [
    "#Poisson Distribution"
   ]
  },
  {
   "cell_type": "code",
   "execution_count": null,
   "metadata": {},
   "outputs": [],
   "source": [
    "A binomial distribution is used to determine the probability of binary occurrences whereas, a poisson distribution is used for\n",
    "count- based distributions"
   ]
  },
  {
   "cell_type": "code",
   "execution_count": null,
   "metadata": {},
   "outputs": [],
   "source": [
    "A poisson distribution is the probability distribution of  independent interval occurrences in an interval"
   ]
  },
  {
   "cell_type": "code",
   "execution_count": null,
   "metadata": {},
   "outputs": [],
   "source": [
    "Example : Number of cars that pass through a bridge in an hour is 20. What would be the probability of 23 cars pass through a bridge in an hour?"
   ]
  },
  {
   "cell_type": "code",
   "execution_count": 8,
   "metadata": {},
   "outputs": [
    {
     "data": {
      "text/plain": [
       "0.06688147366240117"
      ]
     },
     "execution_count": 8,
     "metadata": {},
     "output_type": "execute_result"
    }
   ],
   "source": [
    "from scipy.stats import poisson\n",
    "rv= poisson(20)\n",
    "rv.pmf(23)  #i.e 6% probability"
   ]
  },
  {
   "cell_type": "code",
   "execution_count": null,
   "metadata": {},
   "outputs": [],
   "source": []
  },
  {
   "cell_type": "code",
   "execution_count": null,
   "metadata": {},
   "outputs": [],
   "source": [
    "#Bernoulli Distribution"
   ]
  },
  {
   "cell_type": "code",
   "execution_count": null,
   "metadata": {},
   "outputs": [],
   "source": [
    "An experiment with two possible outcomes success or failure. Success has probability of p and failure has probability of 1-p.\n",
    "A random variable takes 1 in case of a success and 0 in case of failure is called a Bernoulli distribution"
   ]
  },
  {
   "cell_type": "code",
   "execution_count": null,
   "metadata": {},
   "outputs": [],
   "source": [
    "#Voting in an election is an good example for Bernoulli distribution"
   ]
  },
  {
   "cell_type": "code",
   "execution_count": 12,
   "metadata": {},
   "outputs": [
    {
     "data": {
      "text/plain": [
       "array([0, 1, 1, 0, 1, 1, 1, 1, 1, 1])"
      ]
     },
     "execution_count": 12,
     "metadata": {},
     "output_type": "execute_result"
    }
   ],
   "source": [
    "from scipy import stats\n",
    "stats.bernoulli.rvs(0.7,size =10)"
   ]
  },
  {
   "cell_type": "code",
   "execution_count": null,
   "metadata": {},
   "outputs": [],
   "source": []
  },
  {
   "cell_type": "code",
   "execution_count": 13,
   "metadata": {},
   "outputs": [],
   "source": [
    "#Z score"
   ]
  },
  {
   "cell_type": "code",
   "execution_count": null,
   "metadata": {},
   "outputs": [],
   "source": [
    "A classroom with 60 students where 50 is mean of the exam scores and 10 is standard deviation"
   ]
  },
  {
   "cell_type": "code",
   "execution_count": 21,
   "metadata": {},
   "outputs": [
    {
     "data": {
      "text/plain": [
       "array([48., 60., 56., 58., 49., 52., 49., 40., 43., 53., 44., 40., 58.,\n",
       "       51., 60., 44., 43., 41., 44., 71., 57., 47., 33., 58., 44., 62.,\n",
       "       49., 45., 81., 39., 47., 35., 44., 58., 57., 56., 52., 65., 35.,\n",
       "       55., 67., 54., 53., 64., 41., 56., 58., 48., 48., 59., 59., 38.,\n",
       "       41., 61., 46., 54., 66., 41., 56., 44.])"
      ]
     },
     "execution_count": 21,
     "metadata": {},
     "output_type": "execute_result"
    }
   ],
   "source": [
    "import numpy as np\n",
    "classscore = np.random.normal(50,10,60).round()\n",
    "classscore"
   ]
  },
  {
   "cell_type": "code",
   "execution_count": 22,
   "metadata": {},
   "outputs": [
    {
     "name": "stderr",
     "output_type": "stream",
     "text": [
      "C:\\Users\\Sai\\Anaconda3\\lib\\site-packages\\ipykernel_launcher.py:1: MatplotlibDeprecationWarning: \n",
      "The 'normed' kwarg was deprecated in Matplotlib 2.1 and will be removed in 3.1. Use 'density' instead.\n",
      "  \"\"\"Entry point for launching an IPython kernel.\n"
     ]
    },
    {
     "data": {
      "image/png": "[encoded data removed]",
      "text/plain": [
       "<Figure size 432x288 with 1 Axes>"
      ]
     },
     "metadata": {
      "needs_background": "light"
     },
     "output_type": "display_data"
    }
   ],
   "source": [
    "plt.hist(classscore,30,normed = True) #Number of breaks is 30\n",
    "plt.show()"
   ]
  },
  {
   "cell_type": "code",
   "execution_count": 23,
   "metadata": {},
   "outputs": [
    {
     "data": {
      "text/plain": [
       "array([-0.34424413,  0.913907  ,  0.49452329,  0.70421515, -0.2393982 ,\n",
       "        0.07513958, -0.2393982 , -1.18301155, -0.86847377,  0.17998551,\n",
       "       -0.76362784, -1.18301155,  0.70421515, -0.02970635,  0.913907  ,\n",
       "       -0.76362784, -0.86847377, -1.07816562, -0.76362784,  2.0672122 ,\n",
       "        0.59936922, -0.44909006, -1.91693304,  0.70421515, -0.76362784,\n",
       "        1.12359886, -0.2393982 , -0.65878191,  3.11567148, -1.28785748,\n",
       "       -0.44909006, -1.70724119, -0.76362784,  0.70421515,  0.59936922,\n",
       "        0.49452329,  0.07513958,  1.43813664, -1.70724119,  0.38967736,\n",
       "        1.64782849,  0.28483144,  0.17998551,  1.33329071, -1.07816562,\n",
       "        0.49452329,  0.70421515, -0.34424413, -0.34424413,  0.80906107,\n",
       "        0.80906107, -1.3927034 , -1.07816562,  1.01875293, -0.55393598,\n",
       "        0.28483144,  1.54298257, -1.07816562,  0.49452329, -0.76362784])"
      ]
     },
     "execution_count": 23,
     "metadata": {},
     "output_type": "execute_result"
    }
   ],
   "source": [
    "#Converting each score into z-score\n",
    "stats.zscore(classscore)"
   ]
  },
  {
   "cell_type": "code",
   "execution_count": 26,
   "metadata": {},
   "outputs": [
    {
     "data": {
      "text/plain": [
       "0.18062127077020596"
      ]
     },
     "execution_count": 26,
     "metadata": {},
     "output_type": "execute_result"
    }
   ],
   "source": [
    "#So score 60 out of 100 has z-score 0.913\n",
    "#cdf function gives the probability of getting values up to zscore of 0.913\n",
    "prob = 1- stats.norm.cdf(0.913)\n",
    "prob"
   ]
  },
  {
   "cell_type": "code",
   "execution_count": 27,
   "metadata": {},
   "outputs": [],
   "source": [
    "#In other words 0.18 is the probability of getting marks above 60"
   ]
  },
  {
   "cell_type": "code",
   "execution_count": 28,
   "metadata": {},
   "outputs": [],
   "source": [
    "#NOw to get z-score at which top 20% marks, we can use ppf function in SciPy"
   ]
  },
  {
   "cell_type": "code",
   "execution_count": 29,
   "metadata": {},
   "outputs": [
    {
     "data": {
      "text/plain": [
       "0.8416212335729143"
      ]
     },
     "execution_count": 29,
     "metadata": {},
     "output_type": "execute_result"
    }
   ],
   "source": [
    "stats.norm.ppf(0.8)"
   ]
  },
  {
   "cell_type": "code",
   "execution_count": 30,
   "metadata": {},
   "outputs": [
    {
     "data": {
      "text/plain": [
       "59.29508944544758"
      ]
     },
     "execution_count": 30,
     "metadata": {},
     "output_type": "execute_result"
    }
   ],
   "source": [
    "0.84 * classscore.std()+classscore.mean()"
   ]
  },
  {
   "cell_type": "code",
   "execution_count": 31,
   "metadata": {},
   "outputs": [],
   "source": [
    "#59.29 means that students who has marks more than this are in top 20% of distribution "
   ]
  },
  {
   "cell_type": "code",
   "execution_count": null,
   "metadata": {},
   "outputs": [],
   "source": []
  },
  {
   "cell_type": "code",
   "execution_count": 32,
   "metadata": {},
   "outputs": [],
   "source": [
    "#P-value"
   ]
  },
  {
   "cell_type": "code",
   "execution_count": null,
   "metadata": {},
   "outputs": [],
   "source": [
    "A p-value is the probability of rejecting null hypothesis when hypothesis is proven true.\n",
    "Null hypothesis is a statement that says that there is no difference between two measures"
   ]
  },
  {
   "cell_type": "code",
   "execution_count": null,
   "metadata": {},
   "outputs": [],
   "source": []
  },
  {
   "cell_type": "code",
   "execution_count": 33,
   "metadata": {},
   "outputs": [],
   "source": [
    "#One tailed and two tailed tests"
   ]
  },
  {
   "cell_type": "code",
   "execution_count": null,
   "metadata": {},
   "outputs": [],
   "source": [
    "An instance of one-tailed test is where the null hypothesis is rejected or accepted based on one direction of normal distribution."
   ]
  },
  {
   "cell_type": "code",
   "execution_count": null,
   "metadata": {},
   "outputs": [],
   "source": [
    "In two-tailed test , both tails of null hypothesis are used to test hypothesis.\n",
    "In two-tailed test, when significance level of 5% is used,then it is distributed in both directions, that is 2.5% in both directions \n",
    "If p-value is less than 2.5% then reject null hypothesis"
   ]
  },
  {
   "cell_type": "code",
   "execution_count": null,
   "metadata": {},
   "outputs": [],
   "source": []
  },
  {
   "cell_type": "code",
   "execution_count": 1,
   "metadata": {},
   "outputs": [],
   "source": [
    "#Type 1 and Type 2 Error"
   ]
  },
  {
   "cell_type": "code",
   "execution_count": null,
   "metadata": {},
   "outputs": [],
   "source": [
    "Type 1 error (False Positive) : it is a type of error that occurs when there is a rejection of null hypothesis\n",
    "                                when it is actually true.\n",
    "    Ex: Drug is ineffective assumed to be effective   \n",
    "Type 2 error (False Negative) : It is a kind of error that occurs  when we donot reject nul hypothesis that is false\n",
    "    EX: Drug is assumed to be ineffective but actually it is effective\n",
    "        \n",
    "If one of these errors is lowered other increases. It depends on use case and problem statement appropriate error to be reduced"
   ]
  },
  {
   "cell_type": "code",
   "execution_count": null,
   "metadata": {},
   "outputs": [],
   "source": []
  },
  {
   "cell_type": "code",
   "execution_count": null,
   "metadata": {},
   "outputs": [],
   "source": [
    "#Correlation"
   ]
  },
  {
   "cell_type": "code",
   "execution_count": null,
   "metadata": {},
   "outputs": [],
   "source": [
    "stats.pearsonr(mpg,hp)  #gets affected by outliers\n",
    "stats.spearmanr(mpg,hp) #As it is based on order rather than actual value it doesnot get affected by outlier"
   ]
  },
  {
   "cell_type": "code",
   "execution_count": null,
   "metadata": {},
   "outputs": [],
   "source": []
  }
 ],
 "metadata": {
  "kernelspec": {
   "display_name": "Python 3",
   "language": "python",
   "name": "python3"
  },
  "language_info": {
   "codemirror_mode": {
    "name": "ipython",
    "version": 3
   },
   "file_extension": ".py",
   "mimetype": "text/x-python",
   "name": "python",
   "nbconvert_exporter": "python",
   "pygments_lexer": "ipython3",
   "version": "3.7.3"
  }
 },
 "nbformat": 4,
 "nbformat_minor": 2
}
