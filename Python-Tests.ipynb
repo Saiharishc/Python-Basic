{
 "cells": [
  {
   "cell_type": "code",
   "execution_count": 1,
   "metadata": {},
   "outputs": [],
   "source": [
    "#T-distribution is similar to z-distribution - It is centered at zero and has a basic bell shape, but its shorter and flatter\n",
    "#around the center than z-distribution "
   ]
  },
  {
   "cell_type": "code",
   "execution_count": 2,
   "metadata": {},
   "outputs": [],
   "source": [
    "#T-distribution standard deviation is usually proportionally larger than z,because of which you see the fatter tails on each side "
   ]
  },
  {
   "cell_type": "code",
   "execution_count": 3,
   "metadata": {},
   "outputs": [],
   "source": [
    "#Z-test is used to compare population mean against a sample or compare the population mean of two distributions with a sample size\n",
    "#greater than 30\n",
    "#Example : Comparing heights of men from different ethnicity groups"
   ]
  },
  {
   "cell_type": "code",
   "execution_count": 4,
   "metadata": {},
   "outputs": [],
   "source": [
    "#T-test is used to compare population mean against a sample or compare the population mean of two distributions with a sample size\n",
    "#less than 30 and when you don't know population's standard deviation"
   ]
  },
  {
   "cell_type": "code",
   "execution_count": 11,
   "metadata": {},
   "outputs": [],
   "source": [
    "import numpy as np\n",
    "from scipy import stats"
   ]
  },
  {
   "cell_type": "code",
   "execution_count": 12,
   "metadata": {},
   "outputs": [
    {
     "data": {
      "text/plain": [
       "Ttest_indResult(statistic=-0.17989167183462185, pvalue=0.8592472815640219)"
      ]
     },
     "execution_count": 12,
     "metadata": {},
     "output_type": "execute_result"
    }
   ],
   "source": [
    "#T-test for 10 students in a class\n",
    "class1_score= np.array([45,35,23,24,21,34,55,54,45,34])\n",
    "class2_score= np.array([23,23,34,35,23,12,45,66,56,66])\n",
    "stats.ttest_ind(class1_score,class2_score)"
   ]
  },
  {
   "cell_type": "code",
   "execution_count": null,
   "metadata": {},
   "outputs": [],
   "source": []
  },
  {
   "cell_type": "code",
   "execution_count": 13,
   "metadata": {},
   "outputs": [],
   "source": [
    "#f-distribution is also known as Snedecor's F distribution or Fisher-Snedecor distribution"
   ]
  },
  {
   "cell_type": "code",
   "execution_count": null,
   "metadata": {},
   "outputs": [],
   "source": []
  },
  {
   "cell_type": "code",
   "execution_count": 14,
   "metadata": {},
   "outputs": [],
   "source": [
    "#Chi-Square Distribution"
   ]
  },
  {
   "cell_type": "code",
   "execution_count": 15,
   "metadata": {},
   "outputs": [],
   "source": [
    "#Chi-Square Goodness of fit\n",
    "#Chi-Square test can be used to test whether the observed data differs significantly from the expected data"
   ]
  },
  {
   "cell_type": "code",
   "execution_count": 16,
   "metadata": {},
   "outputs": [],
   "source": [
    "#Example : The dice is rolled 36 times  and probability that each face should turn upwards is 1/6"
   ]
  },
  {
   "cell_type": "code",
   "execution_count": 17,
   "metadata": {},
   "outputs": [],
   "source": [
    "Expected = np.array([6,6,6,6,6,6])\n",
    "Observed =np.array([7,5,3,9,6,6])\n",
    "#Null hypothesis is that observed value is similar to expected value"
   ]
  },
  {
   "cell_type": "code",
   "execution_count": 19,
   "metadata": {},
   "outputs": [
    {
     "data": {
      "text/plain": [
       "Power_divergenceResult(statistic=3.333333333333333, pvalue=0.6487423586675934)"
      ]
     },
     "execution_count": 19,
     "metadata": {},
     "output_type": "execute_result"
    }
   ],
   "source": [
    "stats.chisquare(Observed,Expected)"
   ]
  },
  {
   "cell_type": "code",
   "execution_count": 20,
   "metadata": {},
   "outputs": [],
   "source": [
    "#As p-value high we accept null hypothesis"
   ]
  },
  {
   "cell_type": "code",
   "execution_count": 21,
   "metadata": {},
   "outputs": [],
   "source": [
    "#Chi-Square test of independence\n",
    "#It is a test used to determine whether two categorical variables are independent of each other or not"
   ]
  },
  {
   "cell_type": "code",
   "execution_count": 22,
   "metadata": {},
   "outputs": [],
   "source": [
    "#Example: To determine whether there is preference for reading a book based on gender"
   ]
  },
  {
   "cell_type": "code",
   "execution_count": 23,
   "metadata": {},
   "outputs": [
    {
     "data": {
      "text/plain": [
       "(28.362103174603167,\n",
       " 6.938211717057744e-07,\n",
       " 2,\n",
       " array([[136.95652174,  97.39130435,  45.65217391],\n",
       "        [313.04347826, 222.60869565, 104.34782609]]))"
      ]
     },
     "execution_count": 23,
     "metadata": {},
     "output_type": "execute_result"
    }
   ],
   "source": [
    "men_women = np.array([[100,120,60],[350,200,90]])\n",
    "stats.chi2_contingency(men_women)"
   ]
  },
  {
   "cell_type": "code",
   "execution_count": 24,
   "metadata": {},
   "outputs": [],
   "source": [
    "#first value is chi-square value\n",
    "#second value is p-value\n",
    "#3rd value is the degrees of freedom\n",
    "#4th value,which is an array,expected frequencies "
   ]
  },
  {
   "cell_type": "code",
   "execution_count": null,
   "metadata": {},
   "outputs": [],
   "source": []
  },
  {
   "cell_type": "code",
   "execution_count": 25,
   "metadata": {},
   "outputs": [],
   "source": [
    "#ANOVA (Analysis of variance)"
   ]
  },
  {
   "cell_type": "code",
   "execution_count": 27,
   "metadata": {},
   "outputs": [],
   "source": [
    "#Anova is a statistical method used to test differences between two or more means.\n",
    "#This test usually compares means b/w groups and determine whether any of these means are significantly different from each other"
   ]
  },
  {
   "cell_type": "code",
   "execution_count": 28,
   "metadata": {},
   "outputs": [],
   "source": [
    "#Anova can tell you which group is significantly different from each other\n",
    "#Example : lets take height of men from three different countries and see if there heights are significantly different from each other"
   ]
  },
  {
   "cell_type": "code",
   "execution_count": 29,
   "metadata": {},
   "outputs": [
    {
     "data": {
      "text/plain": [
       "F_onewayResult(statistic=0.42350623768877216, pvalue=0.662336889655127)"
      ]
     },
     "execution_count": 29,
     "metadata": {},
     "output_type": "execute_result"
    }
   ],
   "source": [
    "cntry1 = np.array([171,172,173,174,185,188])\n",
    "cntry2 = np.array([174,174,177,178,175,182])\n",
    "cntry3 = np.array([177,172,171,159,175,188])\n",
    "stats.f_oneway(cntry1,cntry2,cntry3)"
   ]
  },
  {
   "cell_type": "code",
   "execution_count": null,
   "metadata": {},
   "outputs": [],
   "source": []
  }
 ],
 "metadata": {
  "kernelspec": {
   "display_name": "Python 3",
   "language": "python",
   "name": "python3"
  },
  "language_info": {
   "codemirror_mode": {
    "name": "ipython",
    "version": 3
   },
   "file_extension": ".py",
   "mimetype": "text/x-python",
   "name": "python",
   "nbconvert_exporter": "python",
   "pygments_lexer": "ipython3",
   "version": "3.7.3"
  }
 },
 "nbformat": 4,
 "nbformat_minor": 2
}
